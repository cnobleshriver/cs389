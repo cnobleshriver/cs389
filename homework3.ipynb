{
 "cells": [
  {
   "cell_type": "markdown",
   "metadata": {},
   "source": [
    "# COMPSCI 389: Homework 3\n",
    "\n",
    "**Assigned**: March 27, 2025. **Due**: April 10, 2025 at 2:00pm Eastern. **Note**: Submissions received after 2:00pm Eastern on April 17, 2025 will receive no credit.\n",
    "\n",
    "**Submitting**: Upload your submission on Gradescope as a `.pdf`. Converting to a PDF can be a complicated process, and so we encourage you to test this process well in advance of the submission deadlines. We recommend converting to HTML, opening the HTML file in a browser, and then printing or exporting to a PDF from your browser. We do not recommend directly converting to a PDF, since this requires installing xelatex. To convert to HTML in VSCode, press `ctrl+shift+p` and type `export`, and you should see an option to export to HTML.\n",
    "\n",
    "**Note**: Keep your `.ipynb` file, as we may request it directly (via email).\n",
    "\n",
    "**Note**: When converting to a PDF file, ensure that all of your code cells have been executed. The results of these executions *must* be included in your submitted PDF."
   ]
  },
  {
   "cell_type": "markdown",
   "metadata": {},
   "source": [
    "## Instructions\n",
    "\n",
    "Complete the questions below, replacing the <font color=\"blue\">blue</font> text with your own answers (your answers do not need to remain in blue). Do **not** modify the <font color=\"green\">green</font> text. Try to answer the questions without consulting your notes or any online material. If you cannot, then consult your notes, and if absolutely necessary, consult course materials (slides, notebooks) and/or Wikipedia. Do **not** use other sources or tools like ChatGPT. Complete this part of the assignment on your own (do **not** work with others).\n",
    "\n",
    "After you have completed all of the questions, at the bottom of this assignment you will find a link to another notebook, `Homework 3 Solutions.ipynb`. This contains the solutions, and instructions for ensuring that your answers are correct and sufficient. Make another pass through your homework assignment, replacing the <font color=\"green\">green</font> text with descriptions of what you missed for each question, and providing the fixes necessary to make your answer correct. **The solutions file may include additional instructions, which may include additional content to respond to even if you got a question correct (e.g., additional reflection).** During this second stage where you are filling in your answers, replacing the <font color=\"green\">green</font> text, you may reference the solutions, work with others, and use any tools (including ChatGPT).\n",
    "\n",
    "You will only submit this assignment once after replacing both the blue and green text. You do not need to submit the assignment between the first and second passes. Grading for each question will be based on whether you followed this process, and arrived at the correct answers and have sufficient discussion/text in the end. Points will be deducted if you did not make a reasonable effort to answer the question initially, if your final answer remains incorrect, of if your answers were not sufficiently clear (so, write in full sentences with proper punctuation, and conveying your arguments clearly). Other than verifying that you made a reasonable initial effort for your initial answers (<font color=\"blue\">blue</font>), points will **not** be deducted due to *initial* answers being incorrect. Hence, there is no reason to break the rules to obtain correct answers initially."
   ]
  },
  {
   "cell_type": "markdown",
   "metadata": {},
   "source": [
    "## Part 1: Short Answer\n",
    "\n",
    "Answer the following questions with at least a few sentences, and no more than roughly one page of text."
   ]
  },
  {
   "cell_type": "markdown",
   "metadata": {},
   "source": [
    "#### 1. [10 points] Consider the plot created by the python code below. How many local minima does this function have? How many global minima? Roughly where are they (rough visual estimates from the plot are sufficient).\n",
    "\n",
    "Note: The function is \n",
    "$$\n",
    "f(x)=x^6 - 15x^5 + 85x^4 - 225x^3 + 274x^2 - 130x.\n",
    "$$"
   ]
  },
  {
   "cell_type": "code",
   "execution_count": 1,
   "metadata": {},
   "outputs": [
    {
     "data": {
      "image/png": "[encoded data removed]",
      "text/plain": [
       "<Figure size 640x480 with 1 Axes>"
      ]
     },
     "metadata": {},
     "output_type": "display_data"
    }
   ],
   "source": [
    "import matplotlib.pyplot as plt\n",
    "import numpy as np\n",
    "\n",
    "# Define the 6th order polynomial function\n",
    "def polynomial(x):\n",
    "    # Example of a 6th order polynomial\n",
    "    return x**6 - 15*x**5 + 85*x**4 - 225*x**3 + 274*x**2 - 130*x\n",
    "\n",
    "# Generate a range of x values\n",
    "x = np.linspace(-0.2, 5.4, 400)\n",
    "\n",
    "# Compute y values\n",
    "y = polynomial(x)\n",
    "\n",
    "# Plotting the function\n",
    "plt.plot(x, y)\n",
    "plt.xlabel('x')\n",
    "plt.ylabel('f(x)')\n",
    "plt.grid(True)\n",
    "plt.show()\n"
   ]
  },
  {
   "cell_type": "markdown",
   "metadata": {},
   "source": [
    "***Initial Answer***\n",
    "\n",
    "<font color=\"blue\">There are three local minima at x = 1.4, 2.7, and 4.7. There is one global minima at x = 4.7 (also a local min)</font>\n",
    "\n",
    "---\n",
    "\n",
    "***Updated Answer***\n",
    "\n",
    "<font color=\"Green\">I included the global min in my list and stated it is also a local min. </font>\n",
    "\n",
    "---"
   ]
  },
  {
   "cell_type": "markdown",
   "metadata": {},
   "source": [
    "#### 2. [10 points] Is the use of one hot encodings more important for nominal or ordinal features? Why?\n",
    "\n",
    "***Initial Answer***\n",
    "\n",
    "<font color=\"blue\">The use of one hot encodings are more important for nominal features. In parametric models, nominal features which are categorical are typically mapped to integers which implies some sort of ordering, while there may be no apparent ordering for those features. One hot encoding makes it so these features are treated equally and not by some arbitrary order. </font>\n",
    "\n",
    "---\n",
    "\n",
    "***Updated Answer***\n",
    "\n",
    "<font color=\"Green\">Replace this text with your response to the solution document.</font>\n",
    "\n",
    "---"
   ]
  },
  {
   "cell_type": "markdown",
   "metadata": {},
   "source": [
    "#### 3. [10 points] Recall that in lecture we ran gradient descent on the least squares loss for the GPA data set (as a regression problem). We observed that we had to use extremely small step sizes for gradient descent to not cause the model parameters to diverge. Why was this? How did we fix this?\n",
    "\n",
    "***Initial Answer***\n",
    "\n",
    "<font color=\"blue\">When we had large steps, we would often overstep local minima which would cause things to never converge. The reason we had large steps was because the feature values range was very large. The large scale in feature value causes a large scale gradient and therefore large steps. The solution to this problem is to normalize features, as a result you get a smaller scale for the features, a smaller scale for the gradient, and smaller step sizes.f</font>\n",
    "\n",
    "---\n",
    "\n",
    "***Updated Answer***\n",
    "\n",
    "<font color=\"Green\">Replace this text with your response to the solution document.</font>\n",
    "\n",
    "---"
   ]
  },
  {
   "cell_type": "markdown",
   "metadata": {},
   "source": [
    "#### 4. [10 points] You are working on a machine learning project to predict the sale prices of houses in a city. The data set includes features such as the number of bedrooms, number of bathrooms, square footage, and the age of the house. However, you notice that many entries in the 'number of bathrooms' column are missing.\n",
    "\n",
    "A) Explain the potential bias that could result from simply discarding rows with missing 'number of bathrooms' data when predicting house prices.\n",
    "\n",
    "B) As an alternative to discarding these rows, propose a method to handle these missing values (you may describe one that we covered in lecture). \n",
    "\n",
    "***Initial Answer***\n",
    "\n",
    "<font color=\"blue\">a. If you discard the rows with 'missing number of bathrooms', you could underestimate the price of a home if the number of bathrooms has a strong correlation with the price of a house.\n",
    "\n",
    "b. Rather than discarding these rows, you could use the existing information to fill in the date. For example, you could say the number of bedrooms is a good predictor of the number of bathooms, and you could set the number of bathrooms to 1/2 the number of bedrooms when that data is missing.</font>\n",
    "\n",
    "---\n",
    "\n",
    "***Updated Answer***\n",
    "\n",
    "<font color=\"Green\">Replace this text with your response to the solution document.</font>\n",
    "\n",
    "---"
   ]
  },
  {
   "cell_type": "markdown",
   "metadata": {},
   "source": [
    "#### 5. [5 points] Consider the artificial neural network architecture described by the following code. How many hidden layers does this network have?\n",
    "\n",
    "```\n",
    "class Question4Network(nn.Module):\n",
    "    def __init__(self, num_classes):\n",
    "        super(FeedforwardNeuralNetModel, self).__init__()\n",
    "        \n",
    "        self.fc0 = nn.Linear(9, 10) \n",
    "        self.fc1 = nn.Linear(hidden_size, 10) \n",
    "        self.fc2 = nn.Linear(hidden_size, 10)\n",
    "        self.fc3 = nn.Linear(hidden_size, 1)  \n",
    "\n",
    "    def forward(self, x):\n",
    "        out = F.relu(self.fc0(x))\n",
    "        out = F.relu(self.fc1(out))\n",
    "        out = F.relu(self.fc2(out))\n",
    "        out = self.fc3(out)\n",
    "        return out\n",
    "```\n",
    "\n",
    "***Initial Answer***\n",
    "\n",
    "<font color=\"blue\">The network has three hidden layers.</font>\n",
    "\n",
    "---\n",
    "\n",
    "***Updated Answer***\n",
    "\n",
    "<font color=\"Green\">fc0 is considered a hidden layer because it applies a linear transormation to the input, where an input layer is simply the raw input.</font>\n",
    "\n",
    "---"
   ]
  },
  {
   "cell_type": "markdown",
   "metadata": {},
   "source": [
    "#### 6. [10 points] Consider the network from the previous question, but with the ReLU activation function removed (that is, no activation function). Why would this not be a reasonable parametric model to use?\n",
    "\n",
    "***Initial Answer***\n",
    "\n",
    "<font color=\"blue\">This would not be a reasonable paramtric model to use because without the activation function, multiple layers performing linear transformations is analagous to a single linear transformations (or effectively one layer). Therefore in order to achieve the utility of using multiple layers which captures complex relationships, you need an activaton funciton.</font>\n",
    "\n",
    "---\n",
    "\n",
    "***Updated Answer***\n",
    "\n",
    "<font color=\"Green\">Replace this text with your response to the solution document.</font>\n",
    "\n",
    "---"
   ]
  },
  {
   "cell_type": "markdown",
   "metadata": {},
   "source": [
    "#### 7. [5 points] What values are computed during the forwards pass in reverse mode automatic differentiation (the form of automatic differentiation that we focussed on in lecture)?\n",
    "\n",
    "***Initial Answer***\n",
    "\n",
    "<font color=\"blue\">The values computed are those of the inner nodes of the expression tree.</font>\n",
    "\n",
    "---\n",
    "\n",
    "***Updated Answer***\n",
    "\n",
    "<font color=\"Green\">These values are needed becuase they are required to compute the local derivatives during the backwards pass.</font>\n",
    "\n",
    "---"
   ]
  },
  {
   "cell_type": "markdown",
   "metadata": {},
   "source": [
    "#### 8. [10 points] What values are computed during the backwards pass in reverse mode automatic differentiation?\n",
    "\n",
    "***Initial Answer***\n",
    "\n",
    "<font color=\"blue\">In the backwards pass, the gradient of the loss with respect to the input of each node (or the derivative).</font>\n",
    "\n",
    "---\n",
    "\n",
    "***Updated Answer***\n",
    "\n",
    "<font color=\"Green\">By calculating these gradients for each individual node, we can then update the weights by doing gradient descent.</font>\n",
    "\n",
    "---"
   ]
  },
  {
   "cell_type": "markdown",
   "metadata": {},
   "source": [
    "#### 9. [5 points] Consider an expression, $f(x)$, that includes a $\\sin(z)$ term (where $z$ may depend on $x$). In order to implement reverse mode automatic differentiation, what derivative do we need to work out? What values do we assume are known?\n",
    "\n",
    "***Initial Answer***\n",
    "\n",
    "<font color=\"blue\">\n",
    "\n",
    "In order to implement reverse mode automatic differentiation, we need to work out the function $f(x)$, with respect to $z$. We assume that we know the value $z$. We can assume that we know the derivative of $f(x)$ with respect to $\\sin(z)$.\n",
    "\n",
    "</font>\n",
    "\n",
    "---\n",
    "\n",
    "***Updated Answer***\n",
    "\n",
    "<font color=\"Green\">Replace this text with your response to the solution document.</font>\n",
    "\n",
    "---"
   ]
  },
  {
   "cell_type": "markdown",
   "metadata": {},
   "source": [
    "#### 10. [10 points] Solve the derivative described in Question 9.\n",
    "\n",
    "***Initial Answer***\n",
    "\n",
    "<font color=\"blue\">\n",
    "\n",
    "$$\n",
    "\\frac{df(x)}{dz} = \\frac{df(x)}{d\\sin(z)}\\frac{d\\sin(z)}{dz} = \\frac{df(x)}{d\\sin(z)}\\cos(z).\n",
    "$$\n",
    "\n",
    "</font>\n",
    "\n",
    "---\n",
    "\n",
    "***Updated Answer***\n",
    "\n",
    "<font color=\"Green\">Replace this text with your response to the solution document.</font>\n",
    "\n",
    "---"
   ]
  },
  {
   "cell_type": "markdown",
   "metadata": {},
   "source": [
    "#### 11. [10 points] In all of the network architectures that we discussed in lecture for computer vision tasks (tasks with images as input), convolutional layers were included as the first few layers of the network. Why are convolutional layers used at the start of the network (early hidden layers) rather than near the end of the network (later hidden layers, after some fully connected layers)?\n",
    "\n",
    "***Initial Answer***\n",
    "\n",
    "<font color=\"blue\">Convolutional layers are included in the first layers of the network for computer vision tasks because they are able to exploit the spacial structure/patterns in an image. Before any hidden layers, spacial information is preserved, wheras after its gets jumbled. By having convolutional layers early you can learn about the correlations between spacial patters. If you have these layers at the end, you miss out on these meaningful local correlations.</font>\n",
    "\n",
    "---\n",
    "\n",
    "***Updated Answer***\n",
    "\n",
    "<font color=\"Green\">\n",
    "\n",
    "A. I think this is a solid observation, it identifies the loss of spacial structure in hidden layers as why convolutional layers may not be effective late in the network.\n",
    "\n",
    "B. I don't think this is a strong argument. It says a convolutional layer may learn a suitable representation if its late in a network, but it seems highly speculative.\n",
    "\n",
    "I think that A is more compelling because it states the facts that you lose spatial relationships in later hidden layers. It's clear to see that you can't draw conclusions about spacial relationships if you lose that information.\n",
    "\n",
    "</font>\n",
    "\n",
    "---"
   ]
  },
  {
   "cell_type": "markdown",
   "metadata": {},
   "source": [
    "#### 12. [5 points] What is the purpose of max pooling layers in convolutional neural networks?\n",
    "\n",
    "***Initial Answer***\n",
    "\n",
    "<font color=\"blue\">The purpose of max pooling is to reduce the number of inputs for the next layer. This way you don't have to tune so many weights.</font>\n",
    "\n",
    "---\n",
    "\n",
    "***Updated Answer***\n",
    "\n",
    "<font color=\"Green\">Replace this text with your response to the solution document.</font>\n",
    "\n",
    "---"
   ]
  },
  {
   "cell_type": "markdown",
   "metadata": {},
   "source": [
    "The solutions can be found here: [https://people.cs.umass.edu/~pthomas/courses/COMPSCI_389_Spring2025/Homework%203%20Solutions.ipynb](https://people.cs.umass.edu/~pthomas/courses/COMPSCI_389_Spring2025/Homework%203%20Solutions.ipynb)."
   ]
  }
 ],
 "metadata": {
  "kernelspec": {
   "display_name": "Python 3",
   "language": "python",
   "name": "python3"
  },
  "language_info": {
   "codemirror_mode": {
    "name": "ipython",
    "version": 3
   },
   "file_extension": ".py",
   "mimetype": "text/x-python",
   "name": "python",
   "nbconvert_exporter": "python",
   "pygments_lexer": "ipython3",
   "version": "3.11.7"
  }
 },
 "nbformat": 4,
 "nbformat_minor": 2
}
