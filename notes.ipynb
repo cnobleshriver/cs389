{
 "cells": [
  {
   "cell_type": "markdown",
   "metadata": {},
   "source": [
    "Date: 2/27/25\n",
    "\n",
    "**Regression:** Regression is a type of supervised learning algorithm used to predict a continuous target variable based on one or more input features. It estimates the relationship between the dependent variable and the independent variables.\n",
    "\n",
    "**Classification:** Classification is a type of supervised learning algorithm used to predict a categorical target variable. It assigns input data into predefined classes or categories based on the input features.\n",
    "\n",
    "**Parameter / Population Statistic:** A parameter is a property of a proability distribution (or random variable), like the mean or variance.\n",
    "Example: mean\n",
    "\n",
    "**Statistic / Sample Statistic:** Statistics are properties of a sample. To emphasize this, we sometimes say \"sameple statistic\".\n",
    "- Example: Sample mean\n",
    "- Notice that this sample mean itself is a random varaible\n",
    "\n",
    "**Confidence Interval:** an interval (range of numbers) that contains a parameter with a specified confidence, $1 - \\delta$.\n",
    "- Example: If $[L, U]$ is a $1-\\delta$ confidence interval for the mean $\\mu$, then $P(L \\leq \\mu \\leq U) \\geq 1-\\delta$\n",
    "\n",
    "**Standard Error:** Let $x_1, x_2, \\ldots, x_n$ be a sequence of $n$ numbers. Let $\\bar{x}$ be the sample mean and $\\sigma$ be the sample standard deviation.\n",
    "\n",
    "The sample mean $\\bar{x}$ is given by:\n",
    "$$\n",
    "\\bar{x} = \\frac{1}{n} \\sum_{i=1}^n x_i\n",
    "$$\n",
    "\n",
    "The sample standard deviation $\\sigma$ is given by:\n",
    "$$\n",
    "\\sigma = \\sqrt{\\frac{1}{n-1} \\sum_{i=1}^n (x_i - \\bar{x})^2}\n",
    "$$\n",
    "\n",
    "Then, the standard error (SE) is given by:\n",
    "$$\n",
    "SE = \\frac{\\sigma}{\\sqrt{n}}\n",
    "$$\n",
    "Example: 95% confidence interval\n",
    "$$\n",
    "P(\\bar{x} - 1.96 \\times SE \\leq \\mu \\leq \\bar{x} + 1.96 \\times SE) \\geq 0.95\n",
    "$$\n",
    "\n",
    "**Mean Squared Error:**\n",
    " The average of the squares of the errors—that is, the average squared difference between the estimated values and the actual value.\n",
    "$$\n",
    "\\text{MSE} = E[(y - \\hat{y})^2] \\\\\n",
    "\\text{Sample MSE} = \\frac{1}{n} \\sum_{i=1}^n (y_i - \\hat{y}_i)^2\n",
    "$$\n",
    "\n",
    "Notice that $\\mu = E(Z_i) = \\text{MSE}$, and let $SE$ be the standard error of $Z_1, Z_2, \\ldots, Z_n$. So $\\hat{\\text{MSE}}_n \\pm 1.96 \\times SE$ is a 95% confidence interval for the actual MSE."
   ]
  },
  {
   "cell_type": "markdown",
   "metadata": {},
   "source": [
    "**Linear parametric model:** A model where output is a linear combination of parameters\n",
    "**Polynomial basis:** Using polynomial functions (x, x², x³, etc.) as basis function\n",
    "**Fitting:** Finding optimal parameters to minimize error between model and data\n"
   ]
  }
 ],
 "metadata": {
  "language_info": {
   "name": "python"
  }
 },
 "nbformat": 4,
 "nbformat_minor": 2
}
